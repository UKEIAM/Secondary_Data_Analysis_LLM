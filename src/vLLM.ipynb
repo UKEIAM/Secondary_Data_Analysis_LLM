{
 "cells": [
  {
   "cell_type": "markdown",
   "metadata": {},
   "source": [
    "# Import packages and data"
   ]
  },
  {
   "cell_type": "code",
   "execution_count": 1,
   "metadata": {},
   "outputs": [
    {
     "name": "stderr",
     "output_type": "stream",
     "text": [
      "/usr/local/lib/python3.10/dist-packages/tqdm/auto.py:21: TqdmWarning: IProgress not found. Please update jupyter and ipywidgets. See https://ipywidgets.readthedocs.io/en/stable/user_install.html\n",
      "  from .autonotebook import tqdm as notebook_tqdm\n"
     ]
    },
    {
     "name": "stdout",
     "output_type": "stream",
     "text": [
      "WARNING 12-10 15:25:58 cuda.py:23] You are using a deprecated `pynvml` package. Please install `nvidia-ml-py` instead, and make sure to uninstall `pynvml`. When both of them are installed, `pynvml` will take precedence and cause errors. See https://pypi.org/project/pynvml for more information.\n"
     ]
    },
    {
     "name": "stderr",
     "output_type": "stream",
     "text": [
      "Warning: Your installation of OpenCV appears to be broken: module 'cv2.dnn' has no attribute 'DictValue'.Please follow the instructions at https://github.com/opencv/opencv-python/issues/884 to correct your environment. The import of cv2 has been skipped.\n",
      "2024-12-10 15:25:59,692\tINFO util.py:154 -- Missing packages: ['ipywidgets']. Run `pip install -U ipywidgets`, then restart the notebook server for rich notebook output.\n"
     ]
    }
   ],
   "source": [
    "import pandas as pd\n",
    "import matplotlib.pyplot as plt\n",
    "import numpy as np\n",
    "from vllm import LLM, SamplingParams\n",
    "from datetime import datetime\n",
    "from datetime import date"
   ]
  },
  {
   "cell_type": "code",
   "execution_count": 2,
   "metadata": {},
   "outputs": [
    {
     "data": {
      "text/html": [
       "<div>\n",
       "<style scoped>\n",
       "    .dataframe tbody tr th:only-of-type {\n",
       "        vertical-align: middle;\n",
       "    }\n",
       "\n",
       "    .dataframe tbody tr th {\n",
       "        vertical-align: top;\n",
       "    }\n",
       "\n",
       "    .dataframe thead th {\n",
       "        text-align: right;\n",
       "    }\n",
       "</style>\n",
       "<table border=\"1\" class=\"dataframe\">\n",
       "  <thead>\n",
       "    <tr style=\"text-align: right;\">\n",
       "      <th></th>\n",
       "      <th>PatientAccountID</th>\n",
       "      <th>MPINumber</th>\n",
       "      <th>AssessmentID</th>\n",
       "      <th>Source</th>\n",
       "      <th>CollectedDT</th>\n",
       "      <th>Finding</th>\n",
       "      <th>FindingName</th>\n",
       "      <th>FindingDataType</th>\n",
       "      <th>Value</th>\n",
       "      <th>AdditionalInformation</th>\n",
       "    </tr>\n",
       "  </thead>\n",
       "  <tbody>\n",
       "  </tbody>\n",
       "</table>\n",
       "</div>"
      ],
      "text/plain": [
       "Empty DataFrame\n",
       "Columns: [PatientAccountID, MPINumber, AssessmentID, Source, CollectedDT, Finding, FindingName, FindingDataType, Value, AdditionalInformation]\n",
       "Index: []"
      ]
     },
     "execution_count": 2,
     "metadata": {},
     "output_type": "execute_result"
    }
   ],
   "source": [
    "\n",
    "# Reading csv-Files\n",
    "\n",
    "DF = pd.read_csv('Testdata_empty.csv', sep=';')   \n",
    "df_0 = pd.DataFrame(DF)\n",
    "\n",
    "df_0"
   ]
  },
  {
   "cell_type": "markdown",
   "metadata": {},
   "source": [
    "## Data preparation"
   ]
  },
  {
   "cell_type": "code",
   "execution_count": 3,
   "metadata": {},
   "outputs": [
    {
     "name": "stdout",
     "output_type": "stream",
     "text": [
      "Empty DataFrame\n",
      "Columns: [Source, CollectedDT, Finding, Value, AdditionalInformation, MPINumber, Age]\n",
      "Index: []\n"
     ]
    }
   ],
   "source": [
    "# Define timeformats\n",
    "timeformat = \"%b %d %Y  %I:%M%p\"\n",
    "birthdayformat = \"%m/%Y\"\n",
    "\n",
    "# Define process to add Age-column\n",
    "def process_dataframe(df):\n",
    "    df['CollectedDT'] = pd.to_datetime(df['CollectedDT'], format=timeformat, errors='coerce')\n",
    "    \n",
    "    Geb_0 = df[df['Finding'] == \"Geburtsdatum\"]\n",
    "    Geb_1 = Geb_0[['MPINumber', 'Value']].copy()\n",
    "    Geb_1 = Geb_1.drop_duplicates()\n",
    "    Geb_1 = Geb_1.rename(columns={\"Value\": \"Birthday\"})\n",
    "    \n",
    "    Geb_2 = Geb_1.loc[:, ['MPINumber', 'Birthday']].copy()\n",
    "    \n",
    "    Geb_2['Birthday'] = pd.to_datetime(Geb_2['Birthday'], format=birthdayformat, errors='coerce')\n",
    "    # print(Geb_2.head())\n",
    "    Geb_3 = pd.merge(df, Geb_2, how=\"left\", on=\"MPINumber\")\n",
    "    \n",
    "    Geb_3['Age'] = ((Geb_3['CollectedDT'] - Geb_3['Birthday']).dt.days) // 365.25\n",
    "    # Geb_3['Age'] = Geb_3['Age'].astype(\"string\")\n",
    "    # Geb_3['Age'] = Geb_3['Age'].str.replace('.0', '', regex=False)\n",
    "    \n",
    "    # print(Geb_3.head())\n",
    "    return Geb_3\n",
    "\n",
    "\n",
    "# Update original variables\n",
    "df_0 = process_dataframe(df_0)\n",
    "\n",
    "# Delete unnecessary rows\n",
    "#del df_0['Unnamed: 0']\n",
    "del df_0['FindingName']\n",
    "del df_0['FindingDataType']\n",
    "del df_0['PatientAccountID']\n",
    "del df_0['AssessmentID']\n",
    "del df_0['Birthday']\n",
    "\n",
    "# Avoid Value Errors due to Na / NaN values\n",
    "df_0 = df_0.fillna(0)\n",
    "\n",
    "\n",
    "print(df_0.head())\n"
   ]
  },
  {
   "cell_type": "code",
   "execution_count": 4,
   "metadata": {},
   "outputs": [],
   "source": [
    "# Filter the dataframe for patients with relevant diagnosis/ ICD10-Code\n",
    "\n",
    "# Choose reelvant diagnosis\n",
    "ICD_10_Code = 'H36'\n",
    "\n",
    "# Filter the data\n",
    "diagnosed_patients = df_0[(df_0['Finding'] == 'Diagnose') & (df_0['Value'].str.contains(ICD_10_Code))]['MPINumber'].unique()\n",
    "\n",
    "# Create new data frame containing only the relevant patients\n",
    "df_P = df_0[df_0['MPINumber'].isin(diagnosed_patients)]\n"
   ]
  },
  {
   "cell_type": "markdown",
   "metadata": {},
   "source": [
    "# Choose your LLM"
   ]
  },
  {
   "cell_type": "code",
   "execution_count": 5,
   "metadata": {},
   "outputs": [
    {
     "name": "stdout",
     "output_type": "stream",
     "text": [
      "INFO 12-10 15:26:06 config.py:350] This model supports multiple tasks: {'generate', 'embedding'}. Defaulting to 'generate'.\n",
      "WARNING 12-10 15:26:06 config.py:428] awq quantization is not fully optimized yet. The speed can be slower than non-quantized models.\n",
      "INFO 12-10 15:26:06 llm_engine.py:249] Initializing an LLM engine (v0.6.4.post1) with config: model='TheBloke/Mistral-7B-Instruct-v0.2-AWQ', speculative_config=None, tokenizer='TheBloke/Mistral-7B-Instruct-v0.2-AWQ', skip_tokenizer_init=False, tokenizer_mode=auto, revision=None, override_neuron_config=None, tokenizer_revision=None, trust_remote_code=False, dtype=torch.float16, max_seq_len=8192, download_dir=None, load_format=LoadFormat.AUTO, tensor_parallel_size=1, pipeline_parallel_size=1, disable_custom_all_reduce=False, quantization=awq, enforce_eager=False, kv_cache_dtype=auto, quantization_param_path=None, device_config=cuda, decoding_config=DecodingConfig(guided_decoding_backend='outlines'), observability_config=ObservabilityConfig(otlp_traces_endpoint=None, collect_model_forward_time=False, collect_model_execute_time=False), seed=0, served_model_name=TheBloke/Mistral-7B-Instruct-v0.2-AWQ, num_scheduler_steps=1, chunked_prefill_enabled=False multi_step_stream_outputs=True, enable_prefix_caching=False, use_async_output_proc=True, use_cached_outputs=False, chat_template_text_format=string, mm_processor_kwargs=None, pooler_config=None)\n",
      "INFO 12-10 15:26:08 selector.py:261] Cannot use FlashAttention-2 backend for Volta and Turing GPUs.\n",
      "INFO 12-10 15:26:08 selector.py:144] Using XFormers backend.\n",
      "INFO 12-10 15:26:08 model_runner.py:1072] Starting to load model TheBloke/Mistral-7B-Instruct-v0.2-AWQ...\n",
      "INFO 12-10 15:26:09 weight_utils.py:243] Using model weights format ['*.safetensors']\n",
      "INFO 12-10 15:27:48 weight_utils.py:288] No model.safetensors.index.json found in remote.\n"
     ]
    },
    {
     "name": "stderr",
     "output_type": "stream",
     "text": [
      "Loading safetensors checkpoint shards:   0% Completed | 0/1 [00:00<?, ?it/s]\n",
      "Loading safetensors checkpoint shards: 100% Completed | 1/1 [00:00<00:00,  1.23it/s]\n",
      "Loading safetensors checkpoint shards: 100% Completed | 1/1 [00:00<00:00,  1.23it/s]\n",
      "\n"
     ]
    },
    {
     "name": "stdout",
     "output_type": "stream",
     "text": [
      "INFO 12-10 15:27:50 model_runner.py:1077] Loading model weights took 3.8814 GB\n",
      "INFO 12-10 15:27:52 worker.py:232] Memory profiling results: total_gpu_memory=15.74GiB initial_memory_usage=5.14GiB peak_torch_memory=4.73GiB memory_usage_post_profile=5.19GiB non_torch_memory=1.30GiB kv_cache_size=8.13GiB gpu_memory_utilization=0.90\n",
      "INFO 12-10 15:27:52 gpu_executor.py:113] # GPU blocks: 4163, # CPU blocks: 2048\n",
      "INFO 12-10 15:27:52 gpu_executor.py:117] Maximum concurrency for 8192 tokens per request: 8.13x\n",
      "INFO 12-10 15:27:55 model_runner.py:1400] Capturing cudagraphs for decoding. This may lead to unexpected consequences if the model is not static. To run the model in eager mode, set 'enforce_eager=True' or use '--enforce-eager' in the CLI.\n",
      "INFO 12-10 15:27:55 model_runner.py:1404] If out-of-memory error occurs during cudagraph capture, consider decreasing `gpu_memory_utilization` or switching to eager mode. You can also reduce the `max_num_seqs` as needed to decrease memory usage.\n",
      "INFO 12-10 15:28:19 model_runner.py:1518] Graph capturing finished in 24 secs, took 1.39 GiB\n"
     ]
    }
   ],
   "source": [
    "llm = LLM(\"TheBloke/Mistral-7B-Instruct-v0.2-AWQ\", max_model_len=32768/4, dtype=\"auto\", quantization=\"awq\")\n",
    "\n",
    "# llm = LLM(\"casperhansen/llama-3-8b-instruct-awq\", max_model_len=32768/4, dtype=\"auto\", quantization=\"awq\")\n",
    "\n",
    "# llm = LLM(\"TheBloke/CodeLlama-7B-Instruct-AWQ\", max_model_len=32768/4, dtype=\"half\", quantization=\"awq\")"
   ]
  },
  {
   "cell_type": "code",
   "execution_count": 6,
   "metadata": {},
   "outputs": [],
   "source": [
    "# Get tokenizer for chat template\n",
    "\n",
    "\n",
    "# Use this for Mistral and Llama3\n",
    "\n",
    "tokenizer = llm.get_tokenizer()\n",
    "\n",
    "\n",
    "# Use this for CodeLlama\n",
    "\n",
    "#from transformers import AutoTokenizer\n",
    "#tokenizer = AutoTokenizer.from_pretrained(\"codellama/CodeLlama-7b-Instruct-hf\", trust_remote_code=True)"
   ]
  },
  {
   "cell_type": "markdown",
   "metadata": {},
   "source": [
    "# Questions"
   ]
  },
  {
   "cell_type": "markdown",
   "metadata": {},
   "source": [
    "## B50"
   ]
  },
  {
   "cell_type": "code",
   "execution_count": 7,
   "metadata": {},
   "outputs": [],
   "source": [
    "Question_B_1 = \"How many patients are there?\"\n",
    "Question_B_2 = \"Plot the gender distribution in a pie chart, include percentages.\"\n",
    "Question_B_3 = \"Plot a bar graph for the number of patients per age. Remember to only count each patient/MPINumber once.\"\n",
    "Question_B_4 = \"Count the number of patients for each unique diagnosis. Plot the 5 most common diagnoses except B50, B51, B52, B53, B54 and A97 in a bar graph.\"\n",
    "Question_B_5 = \"Count the number of patients that got diagnosed with both (B50, B51, B52, B53 or B54) and also A97.\"\n",
    "Question_B_6 = \"Plot the gender distribution of all patients that got diagnosed with B50, B51, B52, B53, B54 in a pie chart, include percentages. Then, repeat for all patients that got diagnosed with A97\"\n",
    "Question_B_7 = \"Plot the age of all patients that got diagnosed with B50, B51, B52, B53, B54 in a bar chart. Then repeat for all patients that got diagnosed with A97\""
   ]
  },
  {
   "cell_type": "markdown",
   "metadata": {},
   "source": [
    "## H36"
   ]
  },
  {
   "cell_type": "code",
   "execution_count": 8,
   "metadata": {},
   "outputs": [],
   "source": [
    "Question_H_1 = \"How many patients are there?\"\n",
    "Question_H_2 = \"Plot the gender distribution in a pie chart, include percentages.\"\n",
    "Question_H_3 = \"Plot a bar graph for the number of patients per age. Remember to only count each patient/MPINumber once.\"\n",
    "Question_H_4 = \"Count the number of patients for each unique diagnosis. Plot the 5 most common diagnoses except H36 in a bar graph. \"\n",
    "Question_H_5 = \"How many HBA1CNV lab results does each patient have? Plot the number of patients that had each number of lab results in a bar graph.\"\n",
    "Question_H_6 = \"Count HBA1CNV lab results for each patient. Plot the measurement values for patients with exactly 5 HBA1CNV lab results in boxplots. Then plot dotted horizontal lines for the values 4.5, 5.7., 6.5. and 7.5.\"\n",
    "Question_H_7 = \"Count HBA1CNV lab results for each patient. Plot the measurement values for patients with exactly 5 HBA1CNV lab results over time. Then plot dotted horizontal lines for the values 4.5, 5.7., 6.5. and 7.5.\""
   ]
  },
  {
   "cell_type": "markdown",
   "metadata": {},
   "source": [
    "## German"
   ]
  },
  {
   "cell_type": "code",
   "execution_count": 9,
   "metadata": {},
   "outputs": [],
   "source": [
    "Question_H_1_German = \"Wie viele Patienten gibt es?\"\n",
    "Question_H_2_German = \"Zeichne die Geschlechterverteilung in ein Tortendiagramm, beziehe Prozentzahlen mit ein.\"\n",
    "Question_H_3_German = \"Zeichne ein Balkendiagramm for die Anzahl an Patienten pro Alter. Denke daran jeden Patienten/MPINumber nur einmal zu zählen.\"\n",
    "Question_H_4_German = \"Zähle die Anzahl der Patienten für jede einzigartige Diagnose. Zeichne die 5 häufigsten Diagnoses ausser H36 in einem Balkendiagramm.\"\n",
    "Question_H_5_German = \"Wie viele HBA1CNV Laborwerte hat jeder Patient? Zeichne die Anzahl an Patienten die die jeweilige Anzahl an Laborwerte hatten in einem Balkendiagramm.\"\n",
    "Question_H_6_German = \"Zähle die HBA1CNV Laborwerte für jeden Patient. Zeichne die Messwerte für Patienten mit exakt 5 HBA1CNV Laborwerten in einem Balkendiagramm. Zeichne dann gepunktete horizontale Linien für die Werte 4.5, 5.7, 6.5 und 7.5.\"\n",
    "Question_H_7_German = \"Zähle die HBA1CNV Laborwerte für jeden Patient. Zeichne die Messwerte für Patienten mit exakt 5 HBA1CNV Laborwerten über die Zeit. Zeichne dann gepunktete horizontale Linien für die Werte 4.5, 5.7, 6.5 und 7.5.\""
   ]
  },
  {
   "cell_type": "markdown",
   "metadata": {},
   "source": [
    "## Reproducibility"
   ]
  },
  {
   "cell_type": "markdown",
   "metadata": {},
   "source": [
    "### Phrasing - Keyword"
   ]
  },
  {
   "cell_type": "code",
   "execution_count": 10,
   "metadata": {},
   "outputs": [],
   "source": [
    "Question_H_1_Keyword = \"Number of patients.\"\n",
    "Question_H_2_Keyword = \"Gender distribution in pie graph.\"\n",
    "Question_H_3_Keyword = \"Age distribution in bar graph.\"\n",
    "Question_H_4_Keyword = \"Five most common diagnoses besides H36 in bar graph\"\n",
    "Question_H_5_Keyword = \"HBA1CNV lab results per patient\"\n",
    "Question_H_6_Keyword = \"HBA1CNV values for patients with 5 HBA1CNV lab results in boxplot.\"\n",
    "Question_H_7_Keyword = \"HBA1CNV values for patients with 5 HBA1CNV values over time.\""
   ]
  },
  {
   "cell_type": "markdown",
   "metadata": {},
   "source": [
    "###  Phrasing - Short"
   ]
  },
  {
   "cell_type": "code",
   "execution_count": 11,
   "metadata": {},
   "outputs": [],
   "source": [
    "Question_H_1_Short = \"How many different patients are there?\"\n",
    "Question_H_2_Short = \"Plot a gender pie chart with percentages.\"\n",
    "Question_H_3_Short = \"Plot an age bar graph.\"\n",
    "Question_H_4_Short = \"Plot a boxplot for the five side diagnoses besides H36.\"\n",
    "Question_H_5_Short = \"Plot how many patients had how many HBA1CNV lab results.\"\n",
    "Question_H_6_Short = \"Plot the HBA1CNV values for patients with 5 HBA1CNV lab results in a boxplot.\"\n",
    "Question_H_7_Short = \"Plot the HBA1CNV values for patients with 5 HBA1CNV lab results over time.\""
   ]
  },
  {
   "cell_type": "markdown",
   "metadata": {},
   "source": [
    "### Phrasing - Data science"
   ]
  },
  {
   "cell_type": "code",
   "execution_count": 12,
   "metadata": {},
   "outputs": [],
   "source": [
    "Question_H_1_Data_science = \"How many different patients does the dataset contain?\"\n",
    "Question_H_2_Data_science = \"Plot the distribution of gender for all patients in a pie chart. Include percentages in the pie chart.\"\n",
    "Question_H_3_Data_science = \"Plot the age of the patients in a bar graph, one bar for each age with the number of patients with that age as the height.\"\n",
    "Question_H_4_Data_science = \"How often does each diagnosis occur in the dataset? Plot the number of occurences for the five most common diagnoses in a bar graph while excluding the diagnosis H36 \"\n",
    "Question_H_5_Data_science = \"How often did each patient get a HBA1CNV measurement? Plot the number of measuremnts in a bar graph, with the number of patients that had that exact number of measurements as the height.\"\n",
    "Question_H_6_Data_science = \"How often did each patient get a HBA1CNV measurement? Plot the measurement values for every patient with exactly 5 lab results in seperate boxplots. Then add dotted horizontal lines at the heights 4.5, 5.7, 6.5 and 7.5 to the graph.\"\n",
    "Question_H_7_Data_science = \"How often did each patient get a HBA1CNV measurement? Plot the measurement values for every patient with exactly 5 lab results as a line graph over time. Then add dotted horizontal lines at the heights 4.5, 5.7, 6.5 and 7.5 to the graph.\""
   ]
  },
  {
   "cell_type": "markdown",
   "metadata": {},
   "source": [
    "### Phrasing - Medical"
   ]
  },
  {
   "cell_type": "code",
   "execution_count": 13,
   "metadata": {},
   "outputs": [],
   "source": [
    "Question_H_1_Medical = \"On how many patients does data exist?\"\n",
    "Question_H_2_Medical = \"Show me the ratio between male and female patients in a round graph, including percentages.\"\n",
    "Question_H_3_Medical = \"Show me the age of all patients in a graph.\"\n",
    "Question_H_4_Medical = \"What were the five most common side diagnoses besides Retinopathia diabetica? Show me their number in a graph.\"\n",
    "Question_H_5_Medical = \"How often did each patient get their blood sugar measured in the lab? Show me how many patients got how many blood sugar lab results.\"\n",
    "Question_H_6_Medical = \"Show me the blood sugar values for patients that got exactly five blood sugar lab results.\"\n",
    "Question_H_7_Medical = \"Show me how the blood sugar values change over time for patients that got exactly five blood sugar lab results.\""
   ]
  },
  {
   "cell_type": "markdown",
   "metadata": {},
   "source": [
    "# Prompting templates"
   ]
  },
  {
   "cell_type": "code",
   "execution_count": 14,
   "metadata": {},
   "outputs": [],
   "source": [
    "def query_template_zero(df: pd.DataFrame, query: str, tokenizer):\n",
    "    llm_chat = [\n",
    "        {\n",
    "            \"role\": \"user\",\n",
    "            \"content\": f\"\"\"\n",
    "Your job is to always write python code for the given dataframe `df` using pandas, numpy and matplot library.\n",
    "Never execute the code.\n",
    "            \n",
    "The first twenty rows of the dataframe are:\n",
    "{df.head(20)}\n",
    "            \n",
    "The columns of the dataframe are:\n",
    "{df.columns}\n",
    "\n",
    "Every patient has a unique `MPINumber`.         \n",
    "\"\"\"\n",
    "        },\n",
    "        \n",
    "        {\n",
    "            \"role\": \"assistant\",\n",
    "            \"content\": \"\"\"\n",
    "\"\"\"\n",
    "        },\n",
    "        \n",
    "        {\n",
    "            \"role\": \"user\",\n",
    "            \"content\": query\n",
    "        }\n",
    "    ]\n",
    "\n",
    "    return tokenizer.apply_chat_template(llm_chat, add_generation_prompt=True, tokenize=False)"
   ]
  },
  {
   "cell_type": "code",
   "execution_count": 15,
   "metadata": {},
   "outputs": [],
   "source": [
    "def query_template_zero_chain(df: pd.DataFrame, query: str, tokenizer):\n",
    "    llm_chat = [\n",
    "        {\n",
    "            \"role\": \"user\",\n",
    "            \"content\": f\"\"\"\n",
    "Always think step by step.\n",
    "Your job is to always write python code for the given dataframe `df` using pandas, numpy and matplot library.\n",
    "Never execute the code.\n",
    "            \n",
    "The first twenty rows of the dataframe are:\n",
    "{df.head(20)}\n",
    "            \n",
    "The columns of the dataframe are:\n",
    "{df.columns}\n",
    "\n",
    "Every patient has a unique `MPINumber`.         \n",
    "\"\"\"\n",
    "        },\n",
    "        \n",
    "        {\n",
    "            \"role\": \"assistant\",\n",
    "            \"content\": \"\"\"\n",
    "\"\"\"\n",
    "        },\n",
    "        \n",
    "        {\n",
    "            \"role\": \"user\",\n",
    "            \"content\": query\n",
    "        }\n",
    "    ]\n",
    "\n",
    "    return tokenizer.apply_chat_template(llm_chat, add_generation_prompt=True, tokenize=False)"
   ]
  },
  {
   "cell_type": "code",
   "execution_count": 16,
   "metadata": {},
   "outputs": [],
   "source": [
    "def query_template_one(df: pd.DataFrame, query: str, tokenizer):\n",
    "    llm_chat = [\n",
    "        {\n",
    "            \"role\": \"user\",\n",
    "            \"content\": f\"\"\"\n",
    "Your job is to always write python code for the given dataframe `df` using pandas, numpy and matplot library.\n",
    "Never execute the code.\n",
    "            \n",
    "The first twenty rows of the dataframe are:\n",
    "{df.head(20)}\n",
    "            \n",
    "The columns of the dataframe are:\n",
    "{df.columns}\n",
    "\n",
    "Every patient has a unique `MPINumber`.          \n",
    "\"\"\"\n",
    "        },\n",
    "        \n",
    "        {\n",
    "            \"role\": \"assistant\",\n",
    "            \"content\": \"\"\"\n",
    "\"\"\"\n",
    "        },\n",
    "        \n",
    "        {\n",
    "            \"role\": \"user\",\n",
    "            \"content\": \"\"\"\n",
    "Count the number of patients.\n",
    "Then, count the number of diagnoses. \n",
    "Then, count the number of patients with a X00 diagnosis.\n",
    "\"\"\"\n",
    "        },\n",
    "        \n",
    "        {\n",
    "            \"role\": \"assistant\",\n",
    "            \"content\": \"\"\"\n",
    "```\n",
    "# Number of patients\n",
    "print(len(df['MPINumber'].unique()))\n",
    "``` \n",
    "\n",
    "```\n",
    "# Count diagnoses\n",
    "df_diagnoses = df[df['Finding'] == 'Diagnose']\n",
    "print(len(df_diagnoses))\n",
    "```\n",
    "\n",
    "```\n",
    "# Count X00 patients\n",
    "df_X00 = df[(df['Finding'].str.contains('Diagnose')) & (df['Value'].str.contains('X00'))]['MPINumber'].unique()\n",
    "print(len(df_X00))\n",
    "```            \n",
    "\"\"\"\n",
    "        },\n",
    "        \n",
    "        {\n",
    "            \"role\": \"user\",\n",
    "            \"content\": query\n",
    "        }\n",
    "    ]\n",
    "\n",
    "    return tokenizer.apply_chat_template(llm_chat, add_generation_prompt=True, tokenize=False)"
   ]
  },
  {
   "cell_type": "code",
   "execution_count": 17,
   "metadata": {},
   "outputs": [],
   "source": [
    "def query_template_one_chain(df: pd.DataFrame, query: str, tokenizer):\n",
    "    llm_chat = [\n",
    "        {\n",
    "            \"role\": \"user\",\n",
    "            \"content\": f\"\"\"\n",
    "Always think step by step.            \n",
    "Your job is to always write python code for the given dataframe `df` using pandas, numpy and matplot library.\n",
    "Never execute the code.\n",
    "            \n",
    "The first twenty rows of the dataframe are:\n",
    "{df.head(20)}\n",
    "            \n",
    "The columns of the dataframe are:\n",
    "{df.columns}\n",
    "\n",
    "Every patient has a unique `MPINumber`.          \n",
    "\"\"\"\n",
    "        },\n",
    "        \n",
    "        {\n",
    "            \"role\": \"assistant\",\n",
    "            \"content\": \"\"\"\n",
    "\"\"\"\n",
    "        },\n",
    "        \n",
    "        {\n",
    "            \"role\": \"user\",\n",
    "            \"content\": \"\"\"\n",
    "Count the number of patients.\n",
    "Then, count the number of diagnoses. \n",
    "Then, count the number of patients with a X00 diagnosis.\n",
    "\"\"\"\n",
    "        },\n",
    "        \n",
    "        {\n",
    "            \"role\": \"assistant\",\n",
    "            \"content\": \"\"\"\n",
    "```\n",
    "# Number of patients\n",
    "print(len(df['MPINumber'].unique()))\n",
    "``` \n",
    "\n",
    "```\n",
    "# Count diagnoses\n",
    "df_diagnoses = df[df['Finding'] == 'Diagnose']\n",
    "print(len(df_diagnoses))\n",
    "```\n",
    "\n",
    "```\n",
    "# Count X00 patients\n",
    "df_X00 = df[(df['Finding'].str.contains('Diagnose')) & (df['Value'].str.contains('X00'))]['MPINumber'].unique()\n",
    "print(len(df_X00))\n",
    "```            \n",
    "\"\"\"\n",
    "        },\n",
    "        \n",
    "        {\n",
    "            \"role\": \"user\",\n",
    "            \"content\": query\n",
    "        }\n",
    "    ]\n",
    "\n",
    "    return tokenizer.apply_chat_template(llm_chat, add_generation_prompt=True, tokenize=False)"
   ]
  },
  {
   "cell_type": "code",
   "execution_count": 18,
   "metadata": {},
   "outputs": [],
   "source": [
    "def query_template_few(df: pd.DataFrame, query: str, tokenizer):\n",
    "    llm_chat = [\n",
    "                {\n",
    "            \"role\": \"user\",\n",
    "            \"content\": f\"\"\"\n",
    "Your job is to always write python code for the given dataframe `df` using pandas, numpy and matplot library.\n",
    "Never execute the code.\n",
    "            \n",
    "The first twenty rows of the dataframe are:\n",
    "{df.head(20)}\n",
    "            \n",
    "The columns of the dataframe are:\n",
    "{df.columns}\n",
    "\n",
    "Every patient has a unique `MPINumber`.          \n",
    "\"\"\"\n",
    "        },\n",
    "        \n",
    "        {\n",
    "            \"role\": \"assistant\",\n",
    "            \"content\": \"\"\"\n",
    "\"\"\"\n",
    "        },\n",
    "        \n",
    "        {\n",
    "            \"role\": \"user\",\n",
    "            \"content\": \"\"\"\n",
    "Count the number of patients.\n",
    "Then, count the number of diagnoses. \n",
    "Then, count the number of patients with a X00 diagnosis.\n",
    "\"\"\"\n",
    "        },\n",
    "        \n",
    "        {\n",
    "            \"role\": \"assistant\",\n",
    "            \"content\": \"\"\"\n",
    "```\n",
    "# Number of patients\n",
    "print(len(df['MPINumber'].unique()))\n",
    "``` \n",
    "\n",
    "```\n",
    "# Count diagnoses\n",
    "df_diagnoses = df[df['Finding'] == 'Diagnose']\n",
    "print(len(df_diagnoses))\n",
    "```\n",
    "\n",
    "```\n",
    "# Count X00 patients\n",
    "df_X00 = df[(df['Finding'].str.contains('Diagnose')) & (df['Value'].str.contains('X00'))]['MPINumber'].unique()\n",
    "print(len(df_X00))\n",
    "```            \n",
    "\"\"\"\n",
    "        },\n",
    "        \n",
    "        {\n",
    "            \"role\": \"user\",\n",
    "            \"content\": \"\"\"\n",
    "Plot patients with a Y123 lab result against patients without one in a pie chart. Include percentages and a legend.       \n",
    "\"\"\"            \n",
    "        },\n",
    "        \n",
    "        {\n",
    "            \"role\": \"assistant\",\n",
    "            \"content\": \"\"\" \n",
    "```\n",
    "# Filter dataframe for patients with and without 'Y123' lab result\n",
    "df_Y123 = df[(df['Source'].str.contains('Labor')) & (df['Finding'].str.contains('Y123'))]['MPINumber'].unique()\n",
    "df_no_Y123 = df[~df['MPINumber'].isin(df_Y123)]\n",
    "\n",
    "# Count number of patients in each group\n",
    "num_Y123 = len(df_Y123)\n",
    "num_no_Y123 = len(df_no_Y123)\n",
    "\n",
    "# Plot pie chart\n",
    "import matplotlib.pyplot as plt\n",
    "\n",
    "labels = ['Patients with Y123 lab result', 'Patients without Y123 lab result']\n",
    "sizes = [num_Y123, num_no_Y123]\n",
    "\n",
    "plt.pie(sizes, labels=labels, startangle=90, autopct='%1.1f%%')\n",
    "plt.axis('equal')\n",
    "plt.title('Patients with and without Y123 lab result')\n",
    "plt.legend(title='Patients', loc='upper right')\n",
    "plt.show()\n",
    "``` \n",
    "\"\"\"\n",
    "        },\n",
    "                \n",
    "        {\n",
    "            \"role\": \"user\",\n",
    "            \"content\": \"\"\"\n",
    "Which 5 patients had the most Y123 lab result? Plot the values for the patient with the most results in a boxplot.     \n",
    "\"\"\"            \n",
    "        },\n",
    "        \n",
    "        {\n",
    "            \"role\": \"assistant\",\n",
    "            \"content\": \"\"\"\n",
    "```\n",
    "# Filter for patients with y123 lab result             \n",
    "df_Y123 = df[(df['Source'].str.contains('Labor')) & (df['Finding'].str.contains('Y123'))]\n",
    "\n",
    "# Group by 'MPINumber' and count the occurrences of 'Y123' lab results\n",
    "df_Y123_counts = df_Y123.groupby('MPINumber').size().reset_index(name='Count')\n",
    "\n",
    "# Sort by count in descending order and select the top 5 patients\n",
    "top_5_Y123 = df_Y123_counts.sort_values(by='Count', ascending=False).head(5)\n",
    "\n",
    "# Display the top 5 patients with the most Y123 lab results\n",
    "print(\"Top 5 patients with the most Y123 lab results:\")\n",
    "print(top_5_Y123)\n",
    "\n",
    "\n",
    "# Extract the MPINumber of the patient with the most Y123 lab results\n",
    "top_patient = top_5_Y123.iloc[0]['MPINumber']\n",
    "\n",
    "# Filter the dataframe for this patient's Y123 lab results\n",
    "df_top_patient_Y123 = df_Y123[df_Y123['MPINumber'] == top_patient]\n",
    "\n",
    "# Ensure 'Lab Value' column contains only numeric data\n",
    "df_top_patient_Y123['Value'] = pd.to_numeric(df_top_patient_Y123['Value'], errors='coerce')\n",
    "\n",
    "# Drop rows with NaN values in 'Lab Value' column\n",
    "df_top_patient_Y123 = df_top_patient_Y123.dropna(subset=['Value'])\n",
    "\n",
    "\n",
    "# Plot the lab values for the patient with the most Y123 lab results\n",
    "plt.figure(figsize=(10, 6))\n",
    "plt.boxplot(df_top_patient_Y123['Value'])\n",
    "plt.xlabel('Lab Value')\n",
    "plt.title(f'Boxplot of Lab Values for Patient {top_patient}')\n",
    "plt.show()\n",
    "```\n",
    "\"\"\"\n",
    "        },         \n",
    "        \n",
    "        {\n",
    "            \"role\": \"user\",\n",
    "            \"content\": query\n",
    "        }\n",
    "    ]\n",
    "\n",
    "    return tokenizer.apply_chat_template(llm_chat, add_generation_prompt=True, tokenize=False)"
   ]
  },
  {
   "cell_type": "code",
   "execution_count": 19,
   "metadata": {},
   "outputs": [],
   "source": [
    "def query_template_few_chain(df: pd.DataFrame, query: str, tokenizer):\n",
    "    llm_chat = [\n",
    "                {\n",
    "            \"role\": \"user\",\n",
    "            \"content\": f\"\"\"\n",
    "Always think step by step.\n",
    "Your job is to always write python code for the given dataframe `df` using pandas, numpy and matplot library.\n",
    "Never execute the code.\n",
    "            \n",
    "The first twenty rows of the dataframe are:\n",
    "{df.head(20)}\n",
    "            \n",
    "The columns of the dataframe are:\n",
    "{df.columns}\n",
    "\n",
    "Every patient has a unique `MPINumber`.          \n",
    "\"\"\"\n",
    "        },\n",
    "        \n",
    "        {\n",
    "            \"role\": \"assistant\",\n",
    "            \"content\": \"\"\"\n",
    "\"\"\"\n",
    "        },\n",
    "        \n",
    "        {\n",
    "            \"role\": \"user\",\n",
    "            \"content\": \"\"\"\n",
    "Count the number of patients.\n",
    "Then, count the number of diagnoses. \n",
    "Then, count the number of patients with a X00 diagnosis.\n",
    "\"\"\"\n",
    "        },\n",
    "        \n",
    "        {\n",
    "            \"role\": \"assistant\",\n",
    "            \"content\": \"\"\"\n",
    "```\n",
    "# Number of patients\n",
    "print(len(df['MPINumber'].unique()))\n",
    "``` \n",
    "\n",
    "```\n",
    "# Count diagnoses\n",
    "df_diagnoses = df[df['Finding'] == 'Diagnose']\n",
    "print(len(df_diagnoses))\n",
    "```\n",
    "\n",
    "```\n",
    "# Count X00 patients\n",
    "df_X00 = df[(df['Finding'].str.contains('Diagnose')) & (df['Value'].str.contains('X00'))]['MPINumber'].unique()\n",
    "print(len(df_X00))\n",
    "```            \n",
    "\"\"\"\n",
    "        },\n",
    "        \n",
    "        {\n",
    "            \"role\": \"user\",\n",
    "            \"content\": \"\"\"\n",
    "Plot patients with a Y123 lab result against patients without one in a pie chart. Include percentages and a legend.       \n",
    "\"\"\"            \n",
    "        },\n",
    "        \n",
    "        {\n",
    "            \"role\": \"assistant\",\n",
    "            \"content\": \"\"\" \n",
    "```\n",
    "# Filter dataframe for patients with and without 'Y123' lab result\n",
    "df_Y123 = df[(df['Source'].str.contains('Labor')) & (df['Finding'].str.contains('Y123'))]['MPINumber'].unique()\n",
    "df_no_Y123 = df[~df['MPINumber'].isin(df_Y123)]\n",
    "\n",
    "# Count number of patients in each group\n",
    "num_Y123 = len(df_Y123)\n",
    "num_no_Y123 = len(df_no_Y123)\n",
    "\n",
    "# Plot pie chart\n",
    "import matplotlib.pyplot as plt\n",
    "\n",
    "labels = ['Patients with Y123 lab result', 'Patients without Y123 lab result']\n",
    "sizes = [num_Y123, num_no_Y123]\n",
    "\n",
    "plt.pie(sizes, labels=labels, startangle=90, autopct='%1.1f%%')\n",
    "plt.axis('equal')\n",
    "plt.title('Patients with and without Y123 lab result')\n",
    "plt.legend(title='Patients', loc='upper right')\n",
    "plt.show()\n",
    "``` \n",
    "\"\"\"\n",
    "        },\n",
    "                \n",
    "        {\n",
    "            \"role\": \"user\",\n",
    "            \"content\": \"\"\"\n",
    "Which 5 patients had the most Y123 lab result? Plot the values for the patient with the most results in a boxplot.     \n",
    "\"\"\"            \n",
    "        },\n",
    "        \n",
    "        {\n",
    "            \"role\": \"assistant\",\n",
    "            \"content\": \"\"\"\n",
    "```\n",
    "# Filter for patients with y123 lab result             \n",
    "df_Y123 = df[(df['Source'].str.contains('Labor')) & (df['Finding'].str.contains('Y123'))]\n",
    "\n",
    "# Group by 'MPINumber' and count the occurrences of 'Y123' lab results\n",
    "df_Y123_counts = df_Y123.groupby('MPINumber').size().reset_index(name='Count')\n",
    "\n",
    "# Sort by count in descending order and select the top 5 patients\n",
    "top_5_Y123 = df_Y123_counts.sort_values(by='Count', ascending=False).head(5)\n",
    "\n",
    "# Display the top 5 patients with the most Y123 lab results\n",
    "print(\"Top 5 patients with the most Y123 lab results:\")\n",
    "print(top_5_Y123)\n",
    "\n",
    "\n",
    "# Extract the MPINumber of the patient with the most Y123 lab results\n",
    "top_patient = top_5_Y123.iloc[0]['MPINumber']\n",
    "\n",
    "# Filter the dataframe for this patient's Y123 lab results\n",
    "df_top_patient_Y123 = df_Y123[df_Y123['MPINumber'] == top_patient]\n",
    "\n",
    "# Ensure 'Lab Value' column contains only numeric data\n",
    "df_top_patient_Y123['Value'] = pd.to_numeric(df_top_patient_Y123['Value'], errors='coerce')\n",
    "\n",
    "# Drop rows with NaN values in 'Lab Value' column\n",
    "df_top_patient_Y123 = df_top_patient_Y123.dropna(subset=['Value'])\n",
    "\n",
    "\n",
    "# Plot the lab values for the patient with the most Y123 lab results\n",
    "plt.figure(figsize=(10, 6))\n",
    "plt.boxplot(df_top_patient_Y123['Value'])\n",
    "plt.xlabel('Lab Value')\n",
    "plt.title(f'Boxplot of Lab Values for Patient {top_patient}')\n",
    "plt.show()\n",
    "```\n",
    "\"\"\"\n",
    "        },         \n",
    "        \n",
    "        {\n",
    "            \"role\": \"user\",\n",
    "            \"content\": query\n",
    "        }\n",
    "    ]\n",
    "\n",
    "    return tokenizer.apply_chat_template(llm_chat, add_generation_prompt=True, tokenize=False)"
   ]
  },
  {
   "cell_type": "markdown",
   "metadata": {},
   "source": [
    "# Queries - Testing\n"
   ]
  },
  {
   "cell_type": "code",
   "execution_count": 20,
   "metadata": {},
   "outputs": [
    {
     "data": {
      "text/html": [
       "<div>\n",
       "<style scoped>\n",
       "    .dataframe tbody tr th:only-of-type {\n",
       "        vertical-align: middle;\n",
       "    }\n",
       "\n",
       "    .dataframe tbody tr th {\n",
       "        vertical-align: top;\n",
       "    }\n",
       "\n",
       "    .dataframe thead th {\n",
       "        text-align: right;\n",
       "    }\n",
       "</style>\n",
       "<table border=\"1\" class=\"dataframe\">\n",
       "  <thead>\n",
       "    <tr style=\"text-align: right;\">\n",
       "      <th></th>\n",
       "      <th>Source</th>\n",
       "      <th>CollectedDT</th>\n",
       "      <th>Finding</th>\n",
       "      <th>Value</th>\n",
       "      <th>AdditionalInformation</th>\n",
       "      <th>MPINumber</th>\n",
       "      <th>Age</th>\n",
       "    </tr>\n",
       "  </thead>\n",
       "  <tbody>\n",
       "  </tbody>\n",
       "</table>\n",
       "</div>"
      ],
      "text/plain": [
       "Empty DataFrame\n",
       "Columns: [Source, CollectedDT, Finding, Value, AdditionalInformation, MPINumber, Age]\n",
       "Index: []"
      ]
     },
     "execution_count": 20,
     "metadata": {},
     "output_type": "execute_result"
    }
   ],
   "source": [
    "df_P"
   ]
  },
  {
   "cell_type": "markdown",
   "metadata": {},
   "source": [
    "### Choosing dataframe"
   ]
  },
  {
   "cell_type": "code",
   "execution_count": 21,
   "metadata": {},
   "outputs": [],
   "source": [
    "# Choose your dataframe for testing\n",
    "df = df_P.copy()\n"
   ]
  },
  {
   "cell_type": "markdown",
   "metadata": {},
   "source": [
    "### Backups in case the generated code modifies the data frame"
   ]
  },
  {
   "cell_type": "code",
   "execution_count": 22,
   "metadata": {},
   "outputs": [],
   "source": [
    "dfbackup = df.copy()"
   ]
  },
  {
   "cell_type": "code",
   "execution_count": 23,
   "metadata": {},
   "outputs": [],
   "source": [
    "df = dfbackup.copy()"
   ]
  },
  {
   "cell_type": "markdown",
   "metadata": {},
   "source": [
    "# Start testing \n"
   ]
  },
  {
   "cell_type": "markdown",
   "metadata": {},
   "source": [
    "### Coose your prompting template and your question"
   ]
  },
  {
   "cell_type": "code",
   "execution_count": 24,
   "metadata": {},
   "outputs": [],
   "source": [
    "Template = query_template_zero\n",
    "\n",
    "Question = Question_H_1"
   ]
  },
  {
   "cell_type": "code",
   "execution_count": 25,
   "metadata": {},
   "outputs": [],
   "source": [
    "Presence_penalty = 0.8\n",
    "Repetition_penalty = 0.8\n",
    "Temperature = 0.1\n",
    "Top_p = 0.1\n",
    "Max_tokens = 1024"
   ]
  },
  {
   "cell_type": "code",
   "execution_count": 26,
   "metadata": {},
   "outputs": [
    {
     "name": "stderr",
     "output_type": "stream",
     "text": [
      "Processed prompts: 100%|██████████| 1/1 [00:01<00:00,  1.88s/it, est. speed input: 88.96 toks/s, output: 57.00 toks/s]"
     ]
    },
    {
     "name": "stdout",
     "output_type": "stream",
     "text": [
      "Output:\n",
      " To find the number of patients, you can use the `shape` property of a pandas DataFrame, which returns a tuple of the number of rows and columns:\n",
      "\n",
      "```python\n",
      "# Get the number of rows in the DataFrame\n",
      "num_patients = df.shape[0]\n",
      "```\n",
      "\n",
      "So the code to find the number of patients in the given DataFrame `df` is:\n",
      "\n",
      "```python\n",
      "num_patients = df.shape[0]\n",
      "```\n",
      "#########\n"
     ]
    },
    {
     "name": "stderr",
     "output_type": "stream",
     "text": [
      "\n"
     ]
    }
   ],
   "source": [
    "query = Template(df, Question, tokenizer)\n",
    "llm_outputs = llm.generate(query, SamplingParams\n",
    "                           (presence_penalty=Presence_penalty, \n",
    "                            repetition_penalty=Repetition_penalty, \n",
    "                            temperature=Temperature, \n",
    "                            top_p=Top_p, \n",
    "                            max_tokens=Max_tokens))\n",
    "for i, out in enumerate(llm_outputs):\n",
    "    print('Output:')\n",
    "    print(out.outputs[0].text)\n",
    "    print('#########')"
   ]
  },
  {
   "cell_type": "markdown",
   "metadata": {},
   "source": [
    "## Code Testing - Space to test generated code"
   ]
  },
  {
   "cell_type": "code",
   "execution_count": 27,
   "metadata": {},
   "outputs": [
    {
     "name": "stdout",
     "output_type": "stream",
     "text": [
      "hello\n"
     ]
    }
   ],
   "source": [
    "print(\"hello\")"
   ]
  },
  {
   "cell_type": "code",
   "execution_count": null,
   "metadata": {},
   "outputs": [],
   "source": []
  }
 ],
 "metadata": {
  "kernelspec": {
   "display_name": "Python 3",
   "language": "python",
   "name": "python3"
  },
  "language_info": {
   "codemirror_mode": {
    "name": "ipython",
    "version": 3
   },
   "file_extension": ".py",
   "mimetype": "text/x-python",
   "name": "python",
   "nbconvert_exporter": "python",
   "pygments_lexer": "ipython3",
   "version": "3.10.12"
  }
 },
 "nbformat": 4,
 "nbformat_minor": 2
}
